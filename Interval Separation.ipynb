{
 "cells": [
  {
   "cell_type": "markdown",
   "metadata": {},
   "source": [
    "# Interval Separation Problem"
   ]
  },
  {
   "cell_type": "markdown",
   "metadata": {},
   "source": [
    "##### We begin by importing the numpy library."
   ]
  },
  {
   "cell_type": "code",
   "execution_count": 22,
   "metadata": {},
   "outputs": [],
   "source": [
    "import numpy as np"
   ]
  },
  {
   "cell_type": "markdown",
   "metadata": {},
   "source": [
    "##### Next, we declare the variable x which contains the list of numbers."
   ]
  },
  {
   "cell_type": "code",
   "execution_count": 28,
   "metadata": {},
   "outputs": [],
   "source": [
    "# we take an example array 'x' here. One can change the numbers of this array as per \n",
    "# the convenience.\n",
    "\n",
    "x = [0.15,0.12,0.35,0.38,0.55,0.56,0.57,0.75,0.77, 0.9,0.94]\n",
    "\n",
    "# we declare a variable 'ar' to store 'x' in the form of an array.\n",
    "\n",
    "ar = np.array(x)"
   ]
  },
  {
   "cell_type": "markdown",
   "metadata": {},
   "source": [
    "### We now start with the employed algorithm.\n",
    "\n",
    "One may run the below cells and then simply skip to the output cell."
   ]
  },
  {
   "cell_type": "code",
   "execution_count": 36,
   "metadata": {},
   "outputs": [
    {
     "name": "stdout",
     "output_type": "stream",
     "text": [
      "Array of counts:  [2 2 3 2 2]\n",
      "Minimum count of numbers from each interval:  2\n"
     ]
    }
   ],
   "source": [
    "# We begin by declaring five variables to count the number of numbers from each interval.\n",
    "count1 = 0\n",
    "count2 = 0\n",
    "count3 = 0\n",
    "count4 = 0\n",
    "count5 = 0\n",
    "for i in range(0,len(ar)):\n",
    "    \n",
    "    if 0.0<=ar[i]<0.2:\n",
    "        count1 += 1\n",
    "    elif 0.2<=ar[i]<0.4:\n",
    "        count2+=1\n",
    "    elif 0.4<=ar[i]<0.6:\n",
    "        count3+=1\n",
    "    elif 0.6<=ar[i]<0.8:\n",
    "        count4+=1\n",
    "    elif 0.8<=ar[i]<1.0:\n",
    "        count5+=1\n",
    "\n",
    "    k = np.array([count1,count2,count3,count4,count5])\n",
    "    count = min(k) # variable 'count' stores the minimum count of numbers from each interval.\n",
    "    \n",
    "print(\"Array of counts: \",k)\n",
    "print(\"Minimum count of numbers from each interval: \",count)\n"
   ]
  },
  {
   "cell_type": "code",
   "execution_count": 37,
   "metadata": {},
   "outputs": [],
   "source": [
    "# we sort the array for the next step to initiate iteration which is not random. \n",
    "ar.sort()"
   ]
  },
  {
   "cell_type": "code",
   "execution_count": 41,
   "metadata": {},
   "outputs": [],
   "source": [
    "# here we declare five variables which store lists\n",
    "new_list1 = []\n",
    "new_list2 = []\n",
    "new_list3 = []\n",
    "new_list4 = []\n",
    "new_list5 = []\n",
    "new_count = 0\n",
    "if count == 0:\n",
    "    print('None')\n",
    "else:\n",
    "    for i in range(0,count):\n",
    "        for j in range(0,len(ar)):\n",
    "            \n",
    "            # a[j] not in new_list<number> is to ensure that no elemets \n",
    "            # are repeated\n",
    "            \n",
    "            if 0.0<=ar[j]<0.2 and ar[j] not in new_list1:\n",
    "                new_list1.append(ar[j])\n",
    "            elif 0.2<=ar[j]<0.4 and ar[j] not in new_list2:\n",
    "                new_list2.append(ar[j])\n",
    "            elif 0.4<=ar[j]<0.6 and ar[j] not in new_list3:\n",
    "                new_list3.append(ar[j])\n",
    "            elif 0.6<=ar[j]<0.8 and ar[j] not in new_list4:\n",
    "                new_list4.append(ar[j])\n",
    "            elif 0.8<=ar[j]<1.0 and ar[j] not in new_list5:\n",
    "                new_list5.append(ar[j])\n",
    "\n",
    "                \n",
    "# The variable new_list will store the final output.\n",
    "new_list = []\n",
    "for i in range(0,count):\n",
    "    \n",
    "    new_list.append(new_list1[i])\n",
    "    new_list.append(new_list2[i])\n",
    "    new_list.append(new_list3[i])\n",
    "    new_list.append(new_list4[i])\n",
    "    new_list.append(new_list5[i])                "
   ]
  },
  {
   "cell_type": "markdown",
   "metadata": {},
   "source": [
    "### Finally, we can now print the output."
   ]
  },
  {
   "cell_type": "code",
   "execution_count": 43,
   "metadata": {},
   "outputs": [
    {
     "name": "stdout",
     "output_type": "stream",
     "text": [
      "[0.12, 0.15, 0.35, 0.38, 0.55, 0.56, 0.75, 0.77, 0.9, 0.94]\n"
     ]
    }
   ],
   "source": [
    "print(sorted(new_list))"
   ]
  },
  {
   "cell_type": "code",
   "execution_count": null,
   "metadata": {},
   "outputs": [],
   "source": []
  }
 ],
 "metadata": {
  "kernelspec": {
   "display_name": "Python 3",
   "language": "python",
   "name": "python3"
  },
  "language_info": {
   "codemirror_mode": {
    "name": "ipython",
    "version": 3
   },
   "file_extension": ".py",
   "mimetype": "text/x-python",
   "name": "python",
   "nbconvert_exporter": "python",
   "pygments_lexer": "ipython3",
   "version": "3.7.3"
  }
 },
 "nbformat": 4,
 "nbformat_minor": 2
}
