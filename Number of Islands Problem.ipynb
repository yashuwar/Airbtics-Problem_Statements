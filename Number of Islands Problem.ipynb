{
 "cells": [
  {
   "cell_type": "markdown",
   "metadata": {},
   "source": [
    "# Number of  islands problem."
   ]
  },
  {
   "cell_type": "markdown",
   "metadata": {},
   "source": [
    "We define a Solution class and define a numIslands function inside it.\n",
    "\n",
    "The algorithm used here is the depth-for-search algorithm; alternatively, one can also use the breadth-first-search allgorithm."
   ]
  },
  {
   "cell_type": "code",
   "execution_count": 4,
   "metadata": {},
   "outputs": [],
   "source": [
    "class Solution(object):\n",
    "    def numIslands(self, grid):\n",
    "        \n",
    "        if not grid:\n",
    "            return 0\n",
    "        ng = len(grid) \n",
    "        mg = len(grid[0])  \n",
    "\n",
    "        def dfsbfs(i, j):\n",
    "            if 0 <= i < ng and 0 <= j < mg and grid[i][j] == '1':\n",
    "                grid[i][j] = '0'\n",
    "                dfsbfs(i, j - 1)\n",
    "                dfsbfs(i, j + 1)\n",
    "                dfsbfs(i - 1, j)\n",
    "                dfsbfs(i + 1, j)\n",
    "                return 1\n",
    "            return 0\n",
    "\n",
    "        count = sum(dfsbfs(i, j) for i in range(ng) for j in range(mg))\n",
    "        return count\n",
    "\n",
    "\n",
    "if __name__ == \"__main__\":\n",
    "    assert Solution().numIslands([['1', '1', '0', '0', '0'],\n",
    "                                  ['1', '1', '0', '0', '0'],\n",
    "                                  ['0', '0', '1', '0', '0'],\n",
    "                                  ['0', '0', '0', '1', '1']]) == 3"
   ]
  },
  {
   "cell_type": "markdown",
   "metadata": {},
   "source": [
    "We now call the function from the Solutions class."
   ]
  },
  {
   "cell_type": "code",
   "execution_count": 5,
   "metadata": {},
   "outputs": [
    {
     "data": {
      "text/plain": [
       "3"
      ]
     },
     "execution_count": 5,
     "metadata": {},
     "output_type": "execute_result"
    }
   ],
   "source": [
    "# we take a matrix here for example\n",
    "Solution().numIslands([['1', '1', '1', '0', '0'],\n",
    "            ['1', '1', '0', '0', '0'],\n",
    "            ['0', '1', '0', '1', '1'],\n",
    "            ['1', '0', '0', '1', '0']]) "
   ]
  },
  {
   "cell_type": "code",
   "execution_count": null,
   "metadata": {},
   "outputs": [],
   "source": []
  }
 ],
 "metadata": {
  "kernelspec": {
   "display_name": "Python 3",
   "language": "python",
   "name": "python3"
  },
  "language_info": {
   "codemirror_mode": {
    "name": "ipython",
    "version": 3
   },
   "file_extension": ".py",
   "mimetype": "text/x-python",
   "name": "python",
   "nbconvert_exporter": "python",
   "pygments_lexer": "ipython3",
   "version": "3.7.3"
  }
 },
 "nbformat": 4,
 "nbformat_minor": 2
}
